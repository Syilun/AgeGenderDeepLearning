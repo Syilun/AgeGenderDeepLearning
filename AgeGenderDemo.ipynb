{
  "nbformat": 4,
  "nbformat_minor": 0,
  "metadata": {
    "kernelspec": {
      "display_name": "Python 2",
      "language": "python",
      "name": "python2"
    },
    "language_info": {
      "codemirror_mode": {
        "name": "ipython",
        "version": 2
      },
      "file_extension": ".py",
      "mimetype": "text/x-python",
      "name": "python",
      "nbconvert_exporter": "python",
      "pygments_lexer": "ipython2",
      "version": "2.7.6"
    },
    "colab": {
      "name": "AgeGenderDemo.ipynb",
      "provenance": [],
      "toc_visible": true,
      "include_colab_link": true
    }
  },
  "cells": [
    {
      "cell_type": "markdown",
      "metadata": {
        "id": "view-in-github",
        "colab_type": "text"
      },
      "source": [
        "<a href=\"https://colab.research.google.com/github/Syilun/AgeGenderDeepLearning/blob/master/AgeGenderDemo.ipynb\" target=\"_parent\"><img src=\"https://colab.research.google.com/assets/colab-badge.svg\" alt=\"Open In Colab\"/></a>"
      ]
    },
    {
      "cell_type": "markdown",
      "metadata": {
        "collapsed": false,
        "id": "9Jd9vxFm681w",
        "colab_type": "text"
      },
      "source": [
        "##Age and Gender Classification Using Convolutional Neural Networks - Demo\n",
        "\n",
        "This code is released with the paper:\n",
        "\n",
        "Gil Levi and Tal Hassner, \"Age and Gender Classification Using Convolutional Neural Networks,\" IEEE Workshop on Analysis and Modeling of Faces and Gestures (AMFG), at the IEEE Conf. on Computer Vision and Pattern Recognition (CVPR), Boston, June 2015\n",
        "\n",
        "If you find the code useful, please add suitable reference to the paper in your work."
      ]
    },
    {
      "cell_type": "code",
      "metadata": {
        "id": "kju6WUyt7Mgp",
        "colab_type": "code",
        "colab": {
          "base_uri": "https://localhost:8080/",
          "height": 34
        },
        "outputId": "57b316fd-3463-49c6-e983-b89386146d20"
      },
      "source": [
        "!git clone https://github.com/BVLC/caffe.git"
      ],
      "execution_count": 1,
      "outputs": [
        {
          "output_type": "stream",
          "text": [
            "fatal: destination path 'caffe' already exists and is not an empty directory.\n"
          ],
          "name": "stdout"
        }
      ]
    },
    {
      "cell_type": "code",
      "metadata": {
        "id": "G7la6kTp7oGo",
        "colab_type": "code",
        "colab": {
          "base_uri": "https://localhost:8080/",
          "height": 119
        },
        "outputId": "d0e948eb-34eb-4fb5-91a7-32e78be6120f"
      },
      "source": [
        "!sudo apt install libboost1.58-all-dev libprotobuf-dev libleveldb-dev libsnappy-dev libhdf5-serial-dev protobuf-compiler libatlas-base-dev libgflags-dev libgoogle-glog-dev liblmdb-dev python-pip python-scipy python3-scipy -y"
      ],
      "execution_count": 2,
      "outputs": [
        {
          "output_type": "stream",
          "text": [
            "Reading package lists... Done\n",
            "Building dependency tree       \n",
            "Reading state information... Done\n",
            "E: Unable to locate package libboost1.58-all-dev\n",
            "E: Couldn't find any package by glob 'libboost1.58-all-dev'\n",
            "E: Couldn't find any package by regex 'libboost1.58-all-dev'\n"
          ],
          "name": "stdout"
        }
      ]
    },
    {
      "cell_type": "code",
      "metadata": {
        "id": "7E5QrIdN7T7d",
        "colab_type": "code",
        "colab": {
          "base_uri": "https://localhost:8080/",
          "height": 153
        },
        "outputId": "5a74b31c-d16d-4a95-8fab-177cc48bd7f7"
      },
      "source": [
        "!apt install -y caffe-cuda"
      ],
      "execution_count": 3,
      "outputs": [
        {
          "output_type": "stream",
          "text": [
            "Reading package lists... Done\n",
            "Building dependency tree       \n",
            "Reading state information... Done\n",
            "caffe-cuda is already the newest version (1.0.0-6build1).\n",
            "The following package was automatically installed and is no longer required:\n",
            "  libnvidia-common-440\n",
            "Use 'apt autoremove' to remove it.\n",
            "0 upgraded, 0 newly installed, 0 to remove and 39 not upgraded.\n"
          ],
          "name": "stdout"
        }
      ]
    },
    {
      "cell_type": "code",
      "metadata": {
        "id": "Pl8lRqlO8ObI",
        "colab_type": "code",
        "colab": {
          "base_uri": "https://localhost:8080/",
          "height": 34
        },
        "outputId": "1196c06e-8e90-45ef-fd3d-f4c156a695c0"
      },
      "source": [
        "!git clone https://github.com/GilLevi/AgeGenderDeepLearning.git"
      ],
      "execution_count": 4,
      "outputs": [
        {
          "output_type": "stream",
          "text": [
            "fatal: destination path 'AgeGenderDeepLearning' already exists and is not an empty directory.\n"
          ],
          "name": "stdout"
        }
      ]
    },
    {
      "cell_type": "code",
      "metadata": {
        "id": "3biwFHtY9aJR",
        "colab_type": "code",
        "colab": {}
      },
      "source": [
        "!cp /content/AgeGenderDeepLearning/models/mean.binaryproto /content/caffe/mean.binaryproto\n",
        "\n",
        "!cp /content/AgeGenderDeepLearning/models/age_net.caffemodel /content/caffe/age_net.caffemodel\n",
        "!cp /content/AgeGenderDeepLearning/age_net_definitions/deploy.prototxt /content/caffe/deploy_age.prototxt\n",
        "\n",
        "!cp /content/AgeGenderDeepLearning/models/gender_net.caffemodel /content/caffe/gender_net.caffemodel\n",
        "!cp /content/AgeGenderDeepLearning/gender_net_definitions/deploy.prototxt /content/caffe/deploy_gender.prototx"
      ],
      "execution_count": 5,
      "outputs": []
    },
    {
      "cell_type": "code",
      "metadata": {
        "id": "2oW56Z8K681x",
        "colab_type": "code",
        "colab": {
          "base_uri": "https://localhost:8080/",
          "height": 512
        },
        "outputId": "bde2d9e0-4362-49bf-cb95-05c857d8c588"
      },
      "source": [
        "import caffe\n",
        "import os\n",
        "import numpy as np\n",
        "import matplotlib.pyplot as plt\n",
        "%matplotlib inline\n",
        "\n",
        "\n",
        "caffe_root = '/content/caffe/' \n",
        "\n",
        "\n",
        "\n",
        "plt.rcParams['figure.figsize'] = (10, 10)\n",
        "plt.rcParams['image.interpolation'] = 'nearest'\n",
        "plt.rcParams['image.cmap'] = 'gray'"
      ],
      "execution_count": 13,
      "outputs": [
        {
          "output_type": "error",
          "ename": "ImportError",
          "evalue": "ignored",
          "traceback": [
            "\u001b[0;31m\u001b[0m",
            "\u001b[0;31mImportError\u001b[0mTraceback (most recent call last)",
            "\u001b[0;32m<ipython-input-13-74ee4b090a46>\u001b[0m in \u001b[0;36m<module>\u001b[0;34m()\u001b[0m\n\u001b[0;32m----> 1\u001b[0;31m \u001b[0;32mimport\u001b[0m \u001b[0mcaffe\u001b[0m\u001b[0;34m\u001b[0m\u001b[0m\n\u001b[0m\u001b[1;32m      2\u001b[0m \u001b[0;32mimport\u001b[0m \u001b[0mos\u001b[0m\u001b[0;34m\u001b[0m\u001b[0m\n\u001b[1;32m      3\u001b[0m \u001b[0;32mimport\u001b[0m \u001b[0mnumpy\u001b[0m \u001b[0;32mas\u001b[0m \u001b[0mnp\u001b[0m\u001b[0;34m\u001b[0m\u001b[0m\n\u001b[1;32m      4\u001b[0m \u001b[0;32mimport\u001b[0m \u001b[0mmatplotlib\u001b[0m\u001b[0;34m.\u001b[0m\u001b[0mpyplot\u001b[0m \u001b[0;32mas\u001b[0m \u001b[0mplt\u001b[0m\u001b[0;34m\u001b[0m\u001b[0m\n\u001b[1;32m      5\u001b[0m \u001b[0mget_ipython\u001b[0m\u001b[0;34m(\u001b[0m\u001b[0;34m)\u001b[0m\u001b[0;34m.\u001b[0m\u001b[0mmagic\u001b[0m\u001b[0;34m(\u001b[0m\u001b[0;34mu'matplotlib inline'\u001b[0m\u001b[0;34m)\u001b[0m\u001b[0;34m\u001b[0m\u001b[0m\n",
            "\u001b[0;32m/content/caffe/python/caffe/__init__.py\u001b[0m in \u001b[0;36m<module>\u001b[0;34m()\u001b[0m\n\u001b[0;32m----> 1\u001b[0;31m \u001b[0;32mfrom\u001b[0m \u001b[0;34m.\u001b[0m\u001b[0mpycaffe\u001b[0m \u001b[0;32mimport\u001b[0m \u001b[0mNet\u001b[0m\u001b[0;34m,\u001b[0m \u001b[0mSGDSolver\u001b[0m\u001b[0;34m,\u001b[0m \u001b[0mNesterovSolver\u001b[0m\u001b[0;34m,\u001b[0m \u001b[0mAdaGradSolver\u001b[0m\u001b[0;34m,\u001b[0m \u001b[0mRMSPropSolver\u001b[0m\u001b[0;34m,\u001b[0m \u001b[0mAdaDeltaSolver\u001b[0m\u001b[0;34m,\u001b[0m \u001b[0mAdamSolver\u001b[0m\u001b[0;34m,\u001b[0m \u001b[0mNCCL\u001b[0m\u001b[0;34m,\u001b[0m \u001b[0mTimer\u001b[0m\u001b[0;34m\u001b[0m\u001b[0m\n\u001b[0m\u001b[1;32m      2\u001b[0m \u001b[0;32mfrom\u001b[0m \u001b[0;34m.\u001b[0m\u001b[0m_caffe\u001b[0m \u001b[0;32mimport\u001b[0m \u001b[0minit_log\u001b[0m\u001b[0;34m,\u001b[0m \u001b[0mlog\u001b[0m\u001b[0;34m,\u001b[0m \u001b[0mset_mode_cpu\u001b[0m\u001b[0;34m,\u001b[0m \u001b[0mset_mode_gpu\u001b[0m\u001b[0;34m,\u001b[0m \u001b[0mset_device\u001b[0m\u001b[0;34m,\u001b[0m \u001b[0mLayer\u001b[0m\u001b[0;34m,\u001b[0m \u001b[0mget_solver\u001b[0m\u001b[0;34m,\u001b[0m \u001b[0mlayer_type_list\u001b[0m\u001b[0;34m,\u001b[0m \u001b[0mset_random_seed\u001b[0m\u001b[0;34m,\u001b[0m \u001b[0msolver_count\u001b[0m\u001b[0;34m,\u001b[0m \u001b[0mset_solver_count\u001b[0m\u001b[0;34m,\u001b[0m \u001b[0msolver_rank\u001b[0m\u001b[0;34m,\u001b[0m \u001b[0mset_solver_rank\u001b[0m\u001b[0;34m,\u001b[0m \u001b[0mset_multiprocess\u001b[0m\u001b[0;34m,\u001b[0m \u001b[0mhas_nccl\u001b[0m\u001b[0;34m\u001b[0m\u001b[0m\n\u001b[1;32m      3\u001b[0m \u001b[0;32mfrom\u001b[0m \u001b[0;34m.\u001b[0m\u001b[0m_caffe\u001b[0m \u001b[0;32mimport\u001b[0m \u001b[0m__version__\u001b[0m\u001b[0;34m\u001b[0m\u001b[0m\n\u001b[1;32m      4\u001b[0m \u001b[0;32mfrom\u001b[0m \u001b[0;34m.\u001b[0m\u001b[0mproto\u001b[0m\u001b[0;34m.\u001b[0m\u001b[0mcaffe_pb2\u001b[0m \u001b[0;32mimport\u001b[0m \u001b[0mTRAIN\u001b[0m\u001b[0;34m,\u001b[0m \u001b[0mTEST\u001b[0m\u001b[0;34m\u001b[0m\u001b[0m\n\u001b[1;32m      5\u001b[0m \u001b[0;32mfrom\u001b[0m \u001b[0;34m.\u001b[0m\u001b[0mclassifier\u001b[0m \u001b[0;32mimport\u001b[0m \u001b[0mClassifier\u001b[0m\u001b[0;34m\u001b[0m\u001b[0m\n",
            "\u001b[0;32m/content/caffe/python/caffe/pycaffe.py\u001b[0m in \u001b[0;36m<module>\u001b[0;34m()\u001b[0m\n\u001b[1;32m     11\u001b[0m \u001b[0;32mimport\u001b[0m \u001b[0mnumpy\u001b[0m \u001b[0;32mas\u001b[0m \u001b[0mnp\u001b[0m\u001b[0;34m\u001b[0m\u001b[0m\n\u001b[1;32m     12\u001b[0m \u001b[0;34m\u001b[0m\u001b[0m\n\u001b[0;32m---> 13\u001b[0;31m \u001b[0;32mfrom\u001b[0m \u001b[0;34m.\u001b[0m\u001b[0m_caffe\u001b[0m \u001b[0;32mimport\u001b[0m \u001b[0mNet\u001b[0m\u001b[0;34m,\u001b[0m \u001b[0mSGDSolver\u001b[0m\u001b[0;34m,\u001b[0m \u001b[0mNesterovSolver\u001b[0m\u001b[0;34m,\u001b[0m \u001b[0mAdaGradSolver\u001b[0m\u001b[0;34m,\u001b[0m\u001b[0;31m \u001b[0m\u001b[0;31m\\\u001b[0m\u001b[0;34m\u001b[0m\u001b[0m\n\u001b[0m\u001b[1;32m     14\u001b[0m         \u001b[0mRMSPropSolver\u001b[0m\u001b[0;34m,\u001b[0m \u001b[0mAdaDeltaSolver\u001b[0m\u001b[0;34m,\u001b[0m \u001b[0mAdamSolver\u001b[0m\u001b[0;34m,\u001b[0m \u001b[0mNCCL\u001b[0m\u001b[0;34m,\u001b[0m \u001b[0mTimer\u001b[0m\u001b[0;34m\u001b[0m\u001b[0m\n\u001b[1;32m     15\u001b[0m \u001b[0;32mimport\u001b[0m \u001b[0mcaffe\u001b[0m\u001b[0;34m.\u001b[0m\u001b[0mio\u001b[0m\u001b[0;34m\u001b[0m\u001b[0m\n",
            "\u001b[0;31mImportError\u001b[0m: No module named _caffe",
            "",
            "\u001b[0;31m---------------------------------------------------------------------------\u001b[0;32m\nNOTE: If your import is failing due to a missing package, you can\nmanually install dependencies using either !pip or !apt.\n\nTo view examples of installing some common dependencies, click the\n\"Open Examples\" button below.\n\u001b[0;31m---------------------------------------------------------------------------\u001b[0m\n"
          ]
        }
      ]
    },
    {
      "cell_type": "markdown",
      "metadata": {
        "id": "6P00f6eW6811",
        "colab_type": "text"
      },
      "source": [
        "## Loading the mean image"
      ]
    },
    {
      "cell_type": "code",
      "metadata": {
        "id": "w5M01SQg6812",
        "colab_type": "code",
        "colab": {}
      },
      "source": [
        "mean_filename='/content/caffe/mean.binaryproto'\n",
        "proto_data = open(mean_filename, \"rb\").read()\n",
        "a = caffe.io.caffe_pb2.BlobProto.FromString(proto_data)\n",
        "mean  = caffe.io.blobproto_to_array(a)[0]"
      ],
      "execution_count": null,
      "outputs": []
    },
    {
      "cell_type": "markdown",
      "metadata": {
        "id": "L1BacCie6815",
        "colab_type": "text"
      },
      "source": [
        "## Loading the age network"
      ]
    },
    {
      "cell_type": "code",
      "metadata": {
        "id": "uqvU0NUr6816",
        "colab_type": "code",
        "colab": {}
      },
      "source": [
        "age_net_pretrained='./age_net.caffemodel'\n",
        "age_net_model_file='./deploy_age.prototxt'\n",
        "age_net = caffe.Classifier(age_net_model_file, age_net_pretrained,\n",
        "                       mean=mean,\n",
        "                       channel_swap=(2,1,0),\n",
        "                       raw_scale=255,\n",
        "                       image_dims=(256, 256))"
      ],
      "execution_count": null,
      "outputs": []
    },
    {
      "cell_type": "markdown",
      "metadata": {
        "id": "wCkeTUFJ6819",
        "colab_type": "text"
      },
      "source": [
        "## Loading the gender network"
      ]
    },
    {
      "cell_type": "code",
      "metadata": {
        "id": "wBn95mBy681-",
        "colab_type": "code",
        "colab": {}
      },
      "source": [
        "gender_net_pretrained='./gender_net.caffemodel'\n",
        "gender_net_model_file='./deploy_gender.prototxt'\n",
        "gender_net = caffe.Classifier(gender_net_model_file, gender_net_pretrained,\n",
        "                       mean=mean,\n",
        "                       channel_swap=(2,1,0),\n",
        "                       raw_scale=255,\n",
        "                       image_dims=(256, 256))"
      ],
      "execution_count": null,
      "outputs": []
    },
    {
      "cell_type": "markdown",
      "metadata": {
        "id": "z1KEVkEv682B",
        "colab_type": "text"
      },
      "source": [
        "## Labels"
      ]
    },
    {
      "cell_type": "code",
      "metadata": {
        "id": "W-7Zq3ci682B",
        "colab_type": "code",
        "colab": {}
      },
      "source": [
        "age_list=['(0, 2)','(4, 6)','(8, 12)','(15, 20)','(25, 32)','(38, 43)','(48, 53)','(60, 100)']\n",
        "gender_list=['Male','Female']"
      ],
      "execution_count": null,
      "outputs": []
    },
    {
      "cell_type": "markdown",
      "metadata": {
        "id": "FZ7ohfGn682H",
        "colab_type": "text"
      },
      "source": [
        "## Reading and plotting the input image"
      ]
    },
    {
      "cell_type": "code",
      "metadata": {
        "id": "QHxrfdXA682H",
        "colab_type": "code",
        "colab": {}
      },
      "source": [
        "example_image = './example_image.jpg'\n",
        "input_image = caffe.io.load_image(example_image)\n",
        "_ = plt.imshow(input_image)"
      ],
      "execution_count": null,
      "outputs": []
    },
    {
      "cell_type": "markdown",
      "metadata": {
        "collapsed": true,
        "id": "hP7SHM9u682M",
        "colab_type": "text"
      },
      "source": [
        "## Age prediction"
      ]
    },
    {
      "cell_type": "code",
      "metadata": {
        "id": "Cm8AmSNk682M",
        "colab_type": "code",
        "colab": {}
      },
      "source": [
        "prediction = age_net.predict([input_image]) \n",
        "\n",
        "print 'predicted age:', age_list[prediction[0].argmax()]"
      ],
      "execution_count": null,
      "outputs": []
    },
    {
      "cell_type": "markdown",
      "metadata": {
        "id": "lidUFTTC682P",
        "colab_type": "text"
      },
      "source": [
        "## Gender prediction"
      ]
    },
    {
      "cell_type": "code",
      "metadata": {
        "id": "lu7r2PuI682P",
        "colab_type": "code",
        "colab": {}
      },
      "source": [
        "prediction = gender_net.predict([input_image]) \n",
        "\n",
        "print 'predicted gender:', gender_list[prediction[0].argmax()]"
      ],
      "execution_count": null,
      "outputs": []
    },
    {
      "cell_type": "markdown",
      "metadata": {
        "collapsed": true,
        "id": "1secSTdA682S",
        "colab_type": "text"
      },
      "source": [
        "# Filters visualizations\n",
        "\n",
        "Based on a similar notebook by Caffe's authors."
      ]
    },
    {
      "cell_type": "code",
      "metadata": {
        "id": "mGJyHjq0682S",
        "colab_type": "code",
        "colab": {}
      },
      "source": [
        "def showimage(im):\n",
        "    if im.ndim == 3:\n",
        "        im = im[:, :, ::-1]\n",
        "    plt.set_cmap('jet')\n",
        "    plt.imshow(im,vmin=0, vmax=0.3)\n",
        "    \n",
        "\n",
        "def vis_square(data, padsize=1, padval=0):\n",
        "    data -= data.min()\n",
        "    data /= data.max()\n",
        "    \n",
        "    # force the number of filters to be square\n",
        "    n = int(np.ceil(np.sqrt(data.shape[0])))\n",
        "    padding = ((0, n ** 2 - data.shape[0]), (0, padsize), (0, padsize)) + ((0, 0),) * (data.ndim - 3)\n",
        "    data = np.pad(data, padding, mode='constant', constant_values=(padval, padval))\n",
        "    \n",
        "    # tile the filters into an image\n",
        "    data = data.reshape((n, n) + data.shape[1:]).transpose((0, 2, 1, 3) + tuple(range(4, data.ndim + 1)))\n",
        "    data = data.reshape((n * data.shape[1], n * data.shape[3]) + data.shape[4:])\n",
        "    \n",
        "    showimage(data)"
      ],
      "execution_count": null,
      "outputs": []
    },
    {
      "cell_type": "markdown",
      "metadata": {
        "id": "sZOpTBx8682V",
        "colab_type": "text"
      },
      "source": [
        "### Input image"
      ]
    },
    {
      "cell_type": "code",
      "metadata": {
        "id": "UD418gix682V",
        "colab_type": "code",
        "colab": {}
      },
      "source": [
        "_ = plt.imshow(input_image)"
      ],
      "execution_count": null,
      "outputs": []
    },
    {
      "cell_type": "markdown",
      "metadata": {
        "id": "CwHojXou682Y",
        "colab_type": "text"
      },
      "source": [
        "###The first conv layer filters, `conv1`\n",
        "Notice some filters resemble edge detector filters"
      ]
    },
    {
      "cell_type": "code",
      "metadata": {
        "id": "3rjbRZ57682Y",
        "colab_type": "code",
        "colab": {}
      },
      "source": [
        "filters = age_net.params['conv1'][0].data[:49]\n",
        "vis_square(filters.transpose(0, 2, 3, 1))"
      ],
      "execution_count": null,
      "outputs": []
    },
    {
      "cell_type": "markdown",
      "metadata": {
        "id": "1TppRF7H682c",
        "colab_type": "text"
      },
      "source": [
        "### The first Conv layer output, `conv1` (rectified responses of the filters above)\n",
        "Notice the response of specific filters, e.g. the onese that resemble edge detectors "
      ]
    },
    {
      "cell_type": "code",
      "metadata": {
        "id": "mO8t8w4J682d",
        "colab_type": "code",
        "colab": {}
      },
      "source": [
        "feat = age_net.blobs['conv1'].data[4, :49]\n",
        "vis_square(feat, padval=1)"
      ],
      "execution_count": null,
      "outputs": []
    },
    {
      "cell_type": "markdown",
      "metadata": {
        "id": "R7MtXsaO682f",
        "colab_type": "text"
      },
      "source": [
        "Copyright 2015, Gil Levi and Tal Hassner\n",
        "\n",
        "The SOFTWARE provided in this page is provided \"as is\", without any guarantee made as to its suitability or fitness for any particular use. It may contain bugs, so use of this tool is at your own risk. We take no responsibility for any damage of any sort that may unintentionally be caused through its use."
      ]
    }
  ]
}